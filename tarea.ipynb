{
 "cells": [
  {
   "cell_type": "markdown",
   "metadata": {},
   "source": [
    "# ejercicio 1"
   ]
  },
  {
   "cell_type": "code",
   "execution_count": null,
   "metadata": {},
   "outputs": [
    {
     "name": "stdout",
     "output_type": "stream",
     "text": [
      "Hola! jose, veo que tienes 27 años, y eres de peru.\n"
     ]
    }
   ],
   "source": [
    "nombre = input(\"Porfavor introduce tu nombre:\")\n",
    "edad = input(\"Porfavor introduce tu edad:\")\n",
    "ciudad = input(\"Porfavor introduce tu ciudad:\")\n",
    "\n",
    "print(f\"Hola! {nombre}, veo que tienes {edad} años, y eres de {ciudad}.\")"
   ]
  },
  {
   "cell_type": "markdown",
   "metadata": {},
   "source": [
    "## ejercicio2"
   ]
  },
  {
   "cell_type": "code",
   "execution_count": null,
   "metadata": {},
   "outputs": [
    {
     "name": "stdout",
     "output_type": "stream",
     "text": [
      "suma: 20.0\n",
      "resta: 0.0\n",
      "multiplicacion: 100.0\n",
      "division: 1.0\n"
     ]
    }
   ],
   "source": [
    "numero = float(input(\"introduce el primer numero:\"))\n",
    "numero2 = float(input(\"introduce el segundo numero:\"))\n",
    "\n",
    "suma = numero + numero2\n",
    "resta =numero - numero2\n",
    "multiplicacion = numero * numero2\n",
    "division = numero / numero2\n",
    "\n",
    "print(f\"suma: {suma}\")\n",
    "print(f\"resta: {resta}\")\n",
    "print(f\"multiplicacion: {multiplicacion}\")\n",
    "print(f\"division: {division}\")\n",
    "\n"
   ]
  },
  {
   "cell_type": "code",
   "execution_count": null,
   "metadata": {},
   "outputs": [
    {
     "name": "stdout",
     "output_type": "stream",
     "text": [
      "3\n"
     ]
    }
   ],
   "source": [
    "import operaciones as op"
   ]
  },
  {
   "cell_type": "code",
   "execution_count": 2,
   "metadata": {},
   "outputs": [],
   "source": [
    "from funciones import comparacion as comp"
   ]
  }
 ],
 "metadata": {
  "kernelspec": {
   "display_name": "Python 3",
   "language": "python",
   "name": "python3"
  },
  "language_info": {
   "codemirror_mode": {
    "name": "ipython",
    "version": 3
   },
   "file_extension": ".py",
   "mimetype": "text/x-python",
   "name": "python",
   "nbconvert_exporter": "python",
   "pygments_lexer": "ipython3",
   "version": "3.13.1"
  }
 },
 "nbformat": 4,
 "nbformat_minor": 2
}
