{
 "cells": [
  {
   "cell_type": "code",
   "execution_count": 2,
   "metadata": {},
   "outputs": [],
   "source": [
    "import comparacion\n",
    "import aritmetico\n",
    "import operacion"
   ]
  },
  {
   "cell_type": "code",
   "execution_count": 31,
   "metadata": {},
   "outputs": [
    {
     "name": "stdout",
     "output_type": "stream",
     "text": [
      "a es menor\n"
     ]
    }
   ],
   "source": [
    "\n",
    "from comparacion import comparar\n",
    "resultado = comparar(10, 11)\n",
    "print(resultado)\n"
   ]
  },
  {
   "cell_type": "code",
   "execution_count": 1,
   "metadata": {},
   "outputs": [
    {
     "name": "stdout",
     "output_type": "stream",
     "text": [
      "true\n",
      "false\n"
     ]
    }
   ],
   "source": [
    "\n",
    "from operacion import usuario\n",
    "\n",
    "resultado = usuario(\"luis\")\n",
    "print(resultado) \n",
    "\n",
    "resultado = usuario(\"juan\")\n",
    "print(resultado) \n",
    "\n"
   ]
  },
  {
   "cell_type": "code",
   "execution_count": 1,
   "metadata": {},
   "outputs": [
    {
     "name": "stdout",
     "output_type": "stream",
     "text": [
      "Restante de la división: 1\n",
      "Resultado de la potencia: 16\n"
     ]
    }
   ],
   "source": [
    "\n",
    "from aritmetico import restante, elevar\n",
    "\n",
    "\n",
    "rest = restante(10, 3)\n",
    "print(f\"Restante de la división: {rest}\")\n",
    "\n",
    "\n",
    "potencia = elevar(2, 4)\n",
    "print(f\"Resultado de la potencia: {potencia}\") \n"
   ]
  }
 ],
 "metadata": {
  "kernelspec": {
   "display_name": "Python 3",
   "language": "python",
   "name": "python3"
  },
  "language_info": {
   "codemirror_mode": {
    "name": "ipython",
    "version": 3
   },
   "file_extension": ".py",
   "mimetype": "text/x-python",
   "name": "python",
   "nbconvert_exporter": "python",
   "pygments_lexer": "ipython3",
   "version": "3.13.1"
  }
 },
 "nbformat": 4,
 "nbformat_minor": 2
}
