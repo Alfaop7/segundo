{
 "cells": [
  {
   "cell_type": "code",
   "execution_count": 4,
   "metadata": {},
   "outputs": [
    {
     "ename": "SyntaxError",
     "evalue": "invalid syntax (1155322437.py, line 1)",
     "output_type": "error",
     "traceback": [
      "\u001b[1;36m  Cell \u001b[1;32mIn[4], line 1\u001b[1;36m\u001b[0m\n\u001b[1;33m    crear un sistema que permita trabajar con las clases netflix o spotify\u001b[0m\n\u001b[1;37m          ^\u001b[0m\n\u001b[1;31mSyntaxError\u001b[0m\u001b[1;31m:\u001b[0m invalid syntax\n"
     ]
    }
   ],
   "source": [
    "crear un sistema que permita trabajar con las clases netflix o spotify\n",
    "este sistema debera obtener los datos de los objetos instanciados, crear un archivo txt con la base al nombre\n",
    "y otro archivotxt con las categorias y los datos de la cancion o pelicula, este ultimo archivo debera contener\n",
    " todos losdatos\n",
    "- los archivos de mombre deberan estar en una carpeta llamada cacnciones o peliculas y los archivos de todos los datos.\n",
    "\n",
    "el primer archivo con el nombre es un \"w\"\n",
    "el segundo archivo que añade por categoria es un \"a\"\n",
    "\n"
   ]
  },
  {
   "cell_type": "code",
   "execution_count": 1,
   "metadata": {},
   "outputs": [],
   "source": [
    "\n",
    "import os\n",
    "\n",
    "\n",
    "class CancionSpotify:\n",
    "    def __init__(self, titulo, artista, album, duracion, genero):\n",
    "        self.titulo = titulo\n",
    "        self.artista = artista\n",
    "        self.album = album\n",
    "        self.duracion = duracion\n",
    "        self.genero = genero\n",
    "\n",
    "    def describir(self):\n",
    "        return f\"Título: {self.titulo}\\nArtista: {self.artista}\\nÁlbum: {self.album}\\nDuración: {self.duracion}\\nGénero: {self.genero}\\n\"\n",
    "\n"
   ]
  },
  {
   "cell_type": "code",
   "execution_count": 2,
   "metadata": {},
   "outputs": [],
   "source": [
    "\n",
    "def crear_carpetas():\n",
    "    if not os.path.exists(\"canciones\"):\n",
    "        os.makedirs(\"canciones\")\n",
    "    if not os.path.exists(\"todos_los_datos\"):\n",
    "        os.makedirs(\"todos_los_datos\")\n",
    "\n",
    "def guardar_datos(cancion):\n",
    "    crear_carpetas()\n",
    "  "
   ]
  },
  {
   "cell_type": "code",
   "execution_count": 9,
   "metadata": {},
   "outputs": [],
   "source": [
    "  \n",
    "    archivo_cancion = f\"canciones/{cancion.titulo}.txt\"\n",
    "    with open(archivo_cancion, \"w\", encoding=\"utf-8\") as archivo:\n",
    "        archivo.write(cancion.describir())\n",
    "    \n",
    "    archivo_genero = f\"todos_los_datos/{cancion.genero}.txt\"\n",
    "    with open(archivo_genero, \"a\", encoding=\"utf-8\") as archivo:\n",
    "        archivo.write(cancion.describir() + \"\\n\")\n",
    "\n",
    "\n",
    "        "
   ]
  },
  {
   "cell_type": "code",
   "execution_count": 10,
   "metadata": {},
   "outputs": [
    {
     "name": "stdout",
     "output_type": "stream",
     "text": [
      "archivos generados con exito\n"
     ]
    }
   ],
   "source": [
    "cancion = CancionSpotify(\"Imagine\", \"John Lennon\", \"Imagine\", \"3:01\", \"Rock\")\n",
    "cancion2 = CancionSpotify(\"Bohemian Rhapsody\", \"Queen\", \"A Night at the Opera\", \"5:55\", \"Rock\")\n",
    "cancion3 = CancionSpotify(\"Despacito\", \"Luis Fonsi\", \"Vida\", \"3:49\", \"Pop\")\n",
    "cancion4 = CancionSpotify(\"toxic\",\"boywithuke\",\"desconocido\",\"2:50\",\"pop\")\n",
    "cancion5 = CancionSpotify(\"Llamado de emergencia\",\"daddy yankee\",\"desconocido\",\"4:05\",\"reggaeton\")\n",
    "\n",
    "guardar_datos(cancion)\n",
    "guardar_datos(cancion2)\n",
    "guardar_datos(cancion3)\n",
    "guardar_datos(cancion4)\n",
    "guardar_datos(cancion5)\n",
    "\n",
    "print(\"archivos generados con exito\")\n"
   ]
  }
 ],
 "metadata": {
  "kernelspec": {
   "display_name": "Python 3",
   "language": "python",
   "name": "python3"
  },
  "language_info": {
   "codemirror_mode": {
    "name": "ipython",
    "version": 3
   },
   "file_extension": ".py",
   "mimetype": "text/x-python",
   "name": "python",
   "nbconvert_exporter": "python",
   "pygments_lexer": "ipython3",
   "version": "3.13.1"
  }
 },
 "nbformat": 4,
 "nbformat_minor": 2
}
