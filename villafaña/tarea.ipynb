{
 "cells": [
  {
   "cell_type": "markdown",
   "metadata": {},
   "source": [
    "# ejercicio 1"
   ]
  },
  {
   "cell_type": "code",
   "execution_count": 1,
   "metadata": {},
   "outputs": [
    {
     "name": "stdout",
     "output_type": "stream",
     "text": [
      "Hola! , veo que tienes  años, y eres de .\n"
     ]
    }
   ],
   "source": [
    "nombre = input(\"Porfavor introduce tu nombre:\")\n",
    "edad = input(\"Porfavor introduce tu edad:\")\n",
    "ciudad = input(\"Porfavor introduce tu ciudad:\")\n",
    "\n",
    "print(f\"Hola! {nombre}, veo que tienes {edad} años, y eres de {ciudad}.\")"
   ]
  },
  {
   "cell_type": "markdown",
   "metadata": {},
   "source": [
    "## ejercicio2"
   ]
  },
  {
   "cell_type": "code",
   "execution_count": 2,
   "metadata": {},
   "outputs": [
    {
     "ename": "ValueError",
     "evalue": "could not convert string to float: ''",
     "output_type": "error",
     "traceback": [
      "\u001b[1;31m---------------------------------------------------------------------------\u001b[0m",
      "\u001b[1;31mValueError\u001b[0m                                Traceback (most recent call last)",
      "Cell \u001b[1;32mIn[2], line 1\u001b[0m\n\u001b[1;32m----> 1\u001b[0m numero \u001b[38;5;241m=\u001b[39m \u001b[38;5;28;43mfloat\u001b[39;49m\u001b[43m(\u001b[49m\u001b[38;5;28;43minput\u001b[39;49m\u001b[43m(\u001b[49m\u001b[38;5;124;43m\"\u001b[39;49m\u001b[38;5;124;43mintroduce el primer numero:\u001b[39;49m\u001b[38;5;124;43m\"\u001b[39;49m\u001b[43m)\u001b[49m\u001b[43m)\u001b[49m\n\u001b[0;32m      2\u001b[0m numero2 \u001b[38;5;241m=\u001b[39m \u001b[38;5;28mfloat\u001b[39m(\u001b[38;5;28minput\u001b[39m(\u001b[38;5;124m\"\u001b[39m\u001b[38;5;124mintroduce el segundo numero:\u001b[39m\u001b[38;5;124m\"\u001b[39m))\n\u001b[0;32m      4\u001b[0m suma \u001b[38;5;241m=\u001b[39m numero \u001b[38;5;241m+\u001b[39m numero2\n",
      "\u001b[1;31mValueError\u001b[0m: could not convert string to float: ''"
     ]
    }
   ],
   "source": [
    "numero = float(input(\"introduce el primer numero:\"))\n",
    "numero2 = float(input(\"introduce el segundo numero:\"))\n",
    "\n",
    "suma = numero + numero2\n",
    "resta =numero - numero2\n",
    "multiplicacion = numero * numero2\n",
    "division = numero / numero2\n",
    "\n",
    "print(f\"suma: {suma}\")\n",
    "print(f\"resta: {resta}\")\n",
    "print(f\"multiplicacion: {multiplicacion}\")\n",
    "print(f\"division: {division}\")\n",
    "\n"
   ]
  },
  {
   "cell_type": "code",
   "execution_count": null,
   "metadata": {},
   "outputs": [
    {
     "name": "stdout",
     "output_type": "stream",
     "text": [
      "3\n"
     ]
    }
   ],
   "source": [
    "import operaciones as op"
   ]
  },
  {
   "cell_type": "code",
   "execution_count": null,
   "metadata": {},
   "outputs": [],
   "source": [
    "from funciones import comparacion as comp"
   ]
  },
  {
   "cell_type": "code",
   "execution_count": null,
   "metadata": {},
   "outputs": [
    {
     "name": "stdout",
     "output_type": "stream",
     "text": [
      "Hola pibes.\n",
      "Crear una lista de supermercado\n",
      "*leche\n",
      "*webo\n",
      "*pan\n",
      "*ceral\n",
      "\n"
     ]
    }
   ],
   "source": [
    "archivo = open (\"hola.txt\",\"a\")\n",
    "contenido=archivo.read()\n",
    "print (contenido)"
   ]
  },
  {
   "cell_type": "code",
   "execution_count": null,
   "metadata": {},
   "outputs": [
    {
     "name": "stdout",
     "output_type": "stream",
     "text": [
      "\n"
     ]
    }
   ],
   "source": [
    "linea = archivo.readline()\n",
    "print(linea)\n",
    "archivo.close()"
   ]
  },
  {
   "cell_type": "code",
   "execution_count": null,
   "metadata": {},
   "outputs": [
    {
     "name": "stdout",
     "output_type": "stream",
     "text": [
      "H\n"
     ]
    }
   ],
   "source": [
    "archivo = open(\"hola.txt\", \"r\")  # Abre el archivo nuevamente\n",
    "linea = archivo.readline()       # Lee la primera línea\n",
    "print(linea)                     # Imprime la línea leída\n",
    "archivo.close()                  # Cierra el archivo para liberar recursos\n"
   ]
  },
  {
   "cell_type": "code",
   "execution_count": null,
   "metadata": {},
   "outputs": [
    {
     "ename": "IndentationError",
     "evalue": "expected an indented block after 'for' statement on line 1 (1928938507.py, line 2)",
     "output_type": "error",
     "traceback": [
      "\u001b[1;36m  Cell \u001b[1;32mIn[19], line 2\u001b[1;36m\u001b[0m\n\u001b[1;33m    print(linea)\u001b[0m\n\u001b[1;37m    ^\u001b[0m\n\u001b[1;31mIndentationError\u001b[0m\u001b[1;31m:\u001b[0m expected an indented block after 'for' statement on line 1\n"
     ]
    }
   ],
   "source": [
    "for linea in linea:\n",
    "print(linea)\n"
   ]
  },
  {
   "cell_type": "code",
   "execution_count": null,
   "metadata": {},
   "outputs": [
    {
     "data": {
      "text/plain": [
       "20"
      ]
     },
     "execution_count": 20,
     "metadata": {},
     "output_type": "execute_result"
    }
   ],
   "source": [
    "archivo = open(\"hola.txt\",\"a\")\n",
    "archivo.write(\"esta linea es nueva\\n\")\n"
   ]
  },
  {
   "cell_type": "code",
   "execution_count": null,
   "metadata": {},
   "outputs": [
    {
     "name": "stdout",
     "output_type": "stream",
     "text": [
      "Hola pibes.\n",
      "Crear una lista de supermercado\n",
      "*leche\n",
      "*webo\n",
      "*pan\n",
      "*ceral\n",
      "esta linea es nueva\n",
      "esta linea es nueva\n",
      "\n"
     ]
    }
   ],
   "source": [
    "archivo = open(\"hola.txt\",\"r\")\n",
    "contenido = archivo.read()\n",
    "print(contenido)"
   ]
  },
  {
   "cell_type": "code",
   "execution_count": null,
   "metadata": {},
   "outputs": [],
   "source": [
    "archivo = open(\"hola.txt\",\"r\")\n",
    "for tarea in tareas:\n",
    "    tareasDoc.write(tarea + \"\\n\")\n",
    "    "
   ]
  },
  {
   "cell_type": "markdown",
   "metadata": {},
   "source": [
    "## 04/03/25"
   ]
  },
  {
   "cell_type": "code",
   "execution_count": null,
   "metadata": {},
   "outputs": [
    {
     "name": "stdout",
     "output_type": "stream",
     "text": [
      "\n",
      "\n",
      " Contenido de practica.txt:\n",
      "4\n",
      "1\n",
      "hola como esta\n",
      "\n"
     ]
    }
   ],
   "source": [
    "archivo = open(\"practica.txt\",\"a\")\n",
    "while True:\n",
    "    \n",
    "    tarea = input(\"ingresa una tarea:\")\n",
    "    if tarea.isnumeric():\n",
    "        print()\n",
    "        break        \n",
    "    archivo.write(tarea + \"\\n\")\n",
    "\n",
    "archivo.close()\n",
    "\n",
    "with open(\"practica.txt\",\"r\") as archivo:\n",
    "    print(\"\\n Contenido de practica.txt:\")\n",
    "    print(archivo.read())"
   ]
  },
  {
   "cell_type": "markdown",
   "metadata": {},
   "source": [
    "## orientada a objetos\n"
   ]
  },
  {
   "cell_type": "code",
   "execution_count": null,
   "metadata": {},
   "outputs": [],
   "source": [
    "class = fabrica\n",
    "constructor = maquina que crea objetos\n",
    "las maquinas necesitan atributos.\n",
    "self = objetos\n"
   ]
  },
  {
   "cell_type": "code",
   "execution_count": null,
   "metadata": {},
   "outputs": [],
   "source": [
    "class pokemon:\n",
    "    nombre=\"\"\n",
    "    tipo = \"\"\n",
    "    ph = \"\"\n",
    "    ataque = 0\n",
    "    defensa = 0\n",
    "    velocidad = 0\n",
    "    \n",
    "    def describir(self):\n",
    "        print(f\"nombre: {self.nombre}\")\n",
    "        print(f\"tipo: {self.tipo}\")\n",
    "        print(f\"puntos de vida: {self.ph}\")\n",
    "        print(f\"ataque: {self.ataque}\")\n",
    "        print(f\"defenza: {self.defenza}\")\n",
    "        print(f\"velocidad: {self.velocidad}\")\n",
    "        "
   ]
  },
  {
   "cell_type": "code",
   "execution_count": null,
   "metadata": {},
   "outputs": [],
   "source": [
    "pokemon1 = pokemon()\n",
    "pokemon1.nombre = \"vaporeon\"\n",
    "pokemon1.tipo = \"agua\"\n",
    "pokemon1.ph = 50\n",
    "pokemon1.ataque = 55\n",
    "pokemon1.defenza = 40\n",
    "pokemon1.velocidad = 90\n",
    "pokemon.describir()\n"
   ]
  },
  {
   "cell_type": "code",
   "execution_count": null,
   "metadata": {},
   "outputs": [],
   "source": [
    "class Pokemones:\n",
    "    def init(self, nombre, tipo, ph, ataque, defensa, velocidad):\n",
    "        self.nombre = nombre\n",
    "        self.tipo = tipo\n",
    "        self.ph = ph\n",
    "        self.ataque = ataque\n",
    "        self.defensa = defensa\n",
    "        self.velocidad = velocidad\n",
    "\n",
    "    def describir(self):\n",
    "        print(f\"Nombre: {self.nombre}\")\n",
    "        print(f\"Tipo: {self.tipo}\")\n",
    "        print(f\"Puntos de vida: {self.ph}\")\n",
    "        print(f\"Ataque: {self.ataque}\")\n",
    "        print(f\"Defensa: {self.defensa}\")\n",
    "        print(f\"Velocidad: {self.velocidad}\")\n",
    "        \n",
    "        def ataque_fuego(self):\n",
    "            print(\"Ataque de fuego\")\n",
    "            \n",
    "        def ataque_agua(self):\n",
    "            print(\"Ataque de Agua\")"
   ]
  },
  {
   "cell_type": "code",
   "execution_count": null,
   "metadata": {},
   "outputs": [],
   "source": [
    "pokemon2 = pokemones (\"charmander\", \"fuego\", 39, 52, 43, 65)\n",
    "pokemon3 = pokemones (\"squirtle\", \"agua\", 44, 48, 65, 43)\n",
    "pokemon2.describir()\n",
    "pokemon2.ataque_fuego()\n",
    "\n",
    "pokemon.describir()\n",
    "pokemon.ataque_agua()\n",
    "\n",
    "if(pokemon3.tipo == \"fuego\"):\n",
    "    print(\"es un pokemon de tipo de fuego\")\n",
    "    pokemon3.ataque_fuego()\n",
    "elif(pokemon3.tipo == \"fuego\"):\n",
    "    print (\"es un pokemon de tipo agua\")\n",
    "    pokemon3.ataque_agua()\n",
    "    "
   ]
  }
 ],
 "metadata": {
  "kernelspec": {
   "display_name": "Python 3",
   "language": "python",
   "name": "python3"
  },
  "language_info": {
   "codemirror_mode": {
    "name": "ipython",
    "version": 3
   },
   "file_extension": ".py",
   "mimetype": "text/x-python",
   "name": "python",
   "nbconvert_exporter": "python",
   "pygments_lexer": "ipython3",
   "version": "3.13.1"
  }
 },
 "nbformat": 4,
 "nbformat_minor": 2
}
