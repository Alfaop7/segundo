{
 "cells": [
  {
   "cell_type": "code",
   "execution_count": null,
   "metadata": {},
   "outputs": [
    {
     "ename": "IndentationError",
     "evalue": "expected an indented block after 'except' statement on line 19 (1621016716.py, line 20)",
     "output_type": "error",
     "traceback": [
      "\u001b[1;36m  Cell \u001b[1;32mIn[78], line 20\u001b[1;36m\u001b[0m\n\u001b[1;33m    print(\"Número erróneo ingresado en la posici\")\u001b[0m\n\u001b[1;37m    ^\u001b[0m\n\u001b[1;31mIndentationError\u001b[0m\u001b[1;31m:\u001b[0m expected an indented block after 'except' statement on line 19\n"
     ]
    }
   ],
   "source": [
    "try:\n",
    "    numero1 = int(input(\"Por favor, ingrese el primer número: \"))\n",
    "    if numero1 == 0:\n",
    "         print(\"Número erróneo ingresado en la posición 1\")\n",
    "except ValueError:\n",
    "    print(\"Número erróneo ingresado en la posición 1\")\n",
    "\n",
    "try:\n",
    "    numero2 = int(input(\"Por favor, ingrese el segundo número: \"))\n",
    "    if numero2 == 0:\n",
    "            print(\"Número erróneo ingresado en la posición 2\")\n",
    "except ValueError:\n",
    "    print(\"Número erróneo ingresado en la posición 2\")\n",
    "\n",
    "try:\n",
    "    numero3 = int(input(\"Por favor, ingrese el tercer número: \"))\n",
    "    if numero3 == 0:\n",
    "        print(\"Número erróneo ingresado en la posición 3\")\n",
    "except ValueError:\n",
    "    print(\"Número erróneo ingresado en la posición 3\")\n",
    "    \n",
    "resultado2 = numero1 / numero3   \n",
    "resultado1 = numero2 / numero3\n",
    "resultado3 = numero1 / numero2\n",
    "resultado4 = numero1 / numero2 / numero3\n",
    "\n",
    "try:\n",
    "    if numero1 == 0:\n",
    "        print(f\"La división entre el número 2 y número 3 es igual a: {resultado1}\")        \n",
    "        \n",
    "    if numero2 == 0:\n",
    "        print(f\"La división entre el número 1 y número 3 es igual a: {resultado2}\")\n",
    "\n",
    "    if numero3 == 0:\n",
    "         print(f\"La división entre el número 1 y número 2 es igual a: {resultado3}\")\n",
    "    else:\n",
    "         print(f\"El resultado de la division de los 3 numeros es igual a: {resultado4}\")\n",
    "         \n",
    "except ZeroDivisionError:\n",
    "    print(\"no se puede dividir entre 0\")"
   ]
  },
  {
   "cell_type": "code",
   "execution_count": null,
   "metadata": {},
   "outputs": [],
   "source": []
  }
 ],
 "metadata": {
  "kernelspec": {
   "display_name": "Python 3",
   "language": "python",
   "name": "python3"
  },
  "language_info": {
   "codemirror_mode": {
    "name": "ipython",
    "version": 3
   },
   "file_extension": ".py",
   "mimetype": "text/x-python",
   "name": "python",
   "nbconvert_exporter": "python",
   "pygments_lexer": "ipython3",
   "version": "3.13.1"
  }
 },
 "nbformat": 4,
 "nbformat_minor": 2
}
